{
 "cells": [
  {
   "cell_type": "markdown",
   "metadata": {},
   "source": [
    "### At this stage, we will start creating library called MiniFLow, which is like our own version of Tensorflow .. \n",
    "\n",
    "Class Architecture:\n",
    "\n",
    "--  **Neuron** [ Base Class ] <br>\n",
    "----  **Input** [ Sub-Class which is only used as Input Layer Node, i.e. performing no operation ]<br>\n",
    "----  **Add** [ Sub-Class which is only used as Hidden Layer Node. i.e. performing some operation ]<br>\n",
    "\n",
    "Each of above class has method name foward like Input.forward() or Add.foward() -- these are basically computing values which these are expected to foward, in case of Input it is simply placeholder.\n",
    "\n"
   ]
  },
  {
   "cell_type": "code",
   "execution_count": 36,
   "metadata": {
    "collapsed": false
   },
   "outputs": [
    {
     "data": {
      "text/plain": [
       "'\\nNo need to change anything below here!\\n'"
      ]
     },
     "execution_count": 36,
     "metadata": {},
     "output_type": "execute_result"
    }
   ],
   "source": [
    "\"\"\"\n",
    "You need to change the Add() class below.\n",
    "\"\"\"\n",
    "\n",
    "class Neuron:\n",
    "    def __init__(self, inbound_neurons=[]):\n",
    "        # Neurons from which this Node receives values\n",
    "        self.inbound_neurons = inbound_neurons\n",
    "        # Neurons to which this Node passes values\n",
    "        self.outbound_neurons = []\n",
    "        # A calculated value\n",
    "        self.value = None\n",
    "        # Add this node as an outbound node on its inputs.\n",
    "        for n in self.inbound_neurons:\n",
    "            print (\"In outbound loop\", n)\n",
    "            n.outbound_neurons.append(self)\n",
    "            print (\"Outbound Neurons\", len(n.outbound_neurons))\n",
    "            \n",
    "        print (\"Inbound Neurons\", len(self.inbound_neurons))\n",
    "        \n",
    "\n",
    "    # These will be implemented in a subclass.\n",
    "    def forward(self):\n",
    "        \"\"\"\n",
    "        Forward propagation.\n",
    "\n",
    "        Compute the output value based on `inbound_neurons` and\n",
    "        store the result in self.value.\n",
    "        \"\"\"\n",
    "        raise NotImplemented\n",
    "\n",
    "\n",
    "class Input(Neuron):\n",
    "    def __init__(self):\n",
    "        # an Input neuron has no inbound nodes,\n",
    "        # so no need to pass anything to the Node instantiator\n",
    "        Neuron.__init__(self)\n",
    "\n",
    "    # NOTE: Input node is the only node where the value\n",
    "    # is passed as an argument to forward().\n",
    "    #\n",
    "    # All other neuron implementations should get the value\n",
    "    # of the previous neurons from self.inbound_neurons\n",
    "    #\n",
    "    # Example:\n",
    "    # val0 = self.inbound_neurons[0].value\n",
    "    def forward(self, value=None):\n",
    "        # Overwrite the value if one is passed in.\n",
    "        if value is not None:\n",
    "            self.value = value\n",
    "        print (\"In Forward of Input...\")\n",
    "\n",
    "\n",
    "class Add(Neuron):\n",
    "    def __init__(self, x, y):\n",
    "        # You could access `x` and `y` in forward with\n",
    "        # self.inbound_neurons[0] (`x`) and self.inbound_neurons[1] (`y`)\n",
    "        Neuron.__init__(self, [x, y])\n",
    "        #print(\"xval, yval\", x.value, y.value)\n",
    "\n",
    "    def forward(self):\n",
    "        \"\"\"\n",
    "        Set the value of this neuron (`self.value`) to the sum of it's inbound_nodes.\n",
    "        \n",
    "        Your code here!\n",
    "        \"\"\"\n",
    "        x_val= self.inbound_neurons[0].value\n",
    "        y_val= self.inbound_neurons[1].value\n",
    "        self.value = x_val+y_val\n",
    "        #print(\"xval, yval\", x_val, y_val)\n",
    "        print (\"In Forward of ADD...\")\n",
    "\n",
    "\"\"\"\n",
    "No need to change anything below here!\n",
    "\"\"\""
   ]
  },
  {
   "cell_type": "markdown",
   "metadata": {},
   "source": [
    "##### Helper Functions"
   ]
  },
  {
   "cell_type": "code",
   "execution_count": 37,
   "metadata": {
    "collapsed": true
   },
   "outputs": [],
   "source": [
    "## Sort generic nodes in topological order using Kahn's Algorithm.\n",
    "def topological_sort(feed_dict):\n",
    "    \"\"\"\n",
    "    Sort generic nodes in topological order using Kahn's Algorithm.\n",
    "\n",
    "    `feed_dict`: A dictionary where the key is a `Input` node and the value is the respective value feed to that node.\n",
    "\n",
    "    Returns a list of sorted nodes.\n",
    "    \"\"\"\n",
    "\n",
    "    input_neurons = [n for n in feed_dict.keys()]\n",
    "    \n",
    "    G = {}\n",
    "    neurons = [n for n in input_neurons]\n",
    "    \n",
    "    while len(neurons) > 0:\n",
    "        n = neurons.pop(0)\n",
    "        if n not in G:\n",
    "            G[n] = {'in': set(), 'out': set()}\n",
    "        for m in n.outbound_neurons:\n",
    "            if m not in G:\n",
    "                G[m] = {'in': set(), 'out': set()}\n",
    "            G[n]['out'].add(m)\n",
    "            G[m]['in'].add(n)\n",
    "            neurons.append(m)\n",
    "\n",
    "    L = []\n",
    "    S = set(input_neurons)\n",
    "    while len(S) > 0:\n",
    "        n = S.pop()\n",
    "\n",
    "        if isinstance(n, Input):\n",
    "            n.value = feed_dict[n]\n",
    "\n",
    "        L.append(n)\n",
    "        for m in n.outbound_neurons:\n",
    "            G[n]['out'].remove(m)\n",
    "            G[m]['in'].remove(n)\n",
    "            # if no other incoming edges add to S\n",
    "            if len(G[m]['in']) == 0:\n",
    "                S.add(m)\n",
    "    return L\n",
    "\n",
    "\n",
    "##Performs a forward pass through a list of sorted neurons.\n",
    "def forward_pass(output_neuron, sorted_neurons):\n",
    "    \"\"\"\n",
    "    Performs a forward pass through a list of sorted neurons.\n",
    "\n",
    "    Arguments:\n",
    "\n",
    "        `output_neuron`: A neuron in the graph, should be the output neuron (have no outgoing edges).\n",
    "        `sorted_neurons`: a topologically sorted list of neurons.\n",
    "\n",
    "    Returns the output neuron's value\n",
    "    \"\"\"\n",
    "\n",
    "    for n in sorted_neurons:\n",
    "        n.forward()\n",
    "\n",
    "    return output_neuron.value"
   ]
  },
  {
   "cell_type": "markdown",
   "metadata": {},
   "source": [
    "### Let's Implement Neural Nerowrk using above defined library called Miniflow .. "
   ]
  },
  {
   "cell_type": "code",
   "execution_count": 38,
   "metadata": {
    "collapsed": false
   },
   "outputs": [
    {
     "name": "stdout",
     "output_type": "stream",
     "text": [
      "Inbound/Outbound at X & Y\n",
      "('Inbound Neurons', 0)\n",
      "('Inbound Neurons', 0)\n",
      "\n",
      "Inbound/Outbound at ADD\n",
      "('In outbound loop', <__main__.Input instance at 0x1061e0a28>)\n",
      "('Outbound Neurons', 1)\n",
      "('In outbound loop', <__main__.Input instance at 0x106087c20>)\n",
      "('Outbound Neurons', 1)\n",
      "('Inbound Neurons', 2)\n",
      "\n",
      "In Forward of Input...\n",
      "In Forward of Input...\n",
      "In Forward of ADD...\n",
      "10 + 5 = 15 (according to miniflow)\n"
     ]
    }
   ],
   "source": [
    "\"\"\"\n",
    "This script builds and runs a graph with miniflow.\n",
    "\n",
    "There is no need to change anything to solve this quiz!\n",
    "\n",
    "However, feel free to play with the network! Can you also\n",
    "build a network that solves the equation below?\n",
    "\n",
    "(x + y) + y\n",
    "\"\"\"\n",
    "# use this import when defined as py files\n",
    "#from miniflow import *\n",
    "\n",
    "print (\"Inbound/Outbound at X & Y\")\n",
    "x, y = Input(), Input()\n",
    "print(\"\")\n",
    "\n",
    "print (\"Inbound/Outbound at ADD\")\n",
    "f = Add(x, y)\n",
    "print(\"\")\n",
    "\n",
    "feed_dict = {x: 10, y: 5}\n",
    "\n",
    "sorted_neurons = topological_sort(feed_dict)\n",
    "output = forward_pass(f, sorted_neurons)\n",
    "\n",
    "# NOTE: because topological_sort set the values for the `Input` neurons we could also access\n",
    "# the value for x with x.value (same goes for y).\n",
    "print(\"{} + {} = {} (according to miniflow)\".format(feed_dict[x], feed_dict[y], output))"
   ]
  },
  {
   "cell_type": "code",
   "execution_count": null,
   "metadata": {
    "collapsed": true
   },
   "outputs": [],
   "source": []
  },
  {
   "cell_type": "code",
   "execution_count": null,
   "metadata": {
    "collapsed": true
   },
   "outputs": [],
   "source": []
  }
 ],
 "metadata": {
  "kernelspec": {
   "display_name": "Python 2",
   "language": "python",
   "name": "python2"
  },
  "language_info": {
   "codemirror_mode": {
    "name": "ipython",
    "version": 2
   },
   "file_extension": ".py",
   "mimetype": "text/x-python",
   "name": "python",
   "nbconvert_exporter": "python",
   "pygments_lexer": "ipython2",
   "version": "2.7.13"
  }
 },
 "nbformat": 4,
 "nbformat_minor": 2
}
